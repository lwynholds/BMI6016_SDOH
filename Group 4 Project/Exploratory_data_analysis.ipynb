{
 "cells": [
  {
   "cell_type": "markdown",
   "id": "74eaab59-2f00-469e-9046-9d9301015f0e",
   "metadata": {},
   "source": [
    "# Ideas for analysis\n",
    "* Counts of columns\n",
    "    * info and describe on dfs\n",
    "* Plot missing values\n",
    "* number of census tracts/counties\n",
    "* Pull SDOH for UofU and maybe another address?"
   ]
  },
  {
   "cell_type": "markdown",
   "id": "3b80d4fe-c3c5-4b90-acde-9fb831164b41",
   "metadata": {},
   "source": [
    "## Importing Data"
   ]
  },
  {
   "cell_type": "code",
   "execution_count": null,
   "id": "2153b060-bc7e-4e54-9015-1f4ef2b47e82",
   "metadata": {},
   "outputs": [],
   "source": [
    "# Set up\n",
    "import pandas as pd\n",
    "\n",
    "# for plots\n",
    "#%matplotlib notebook\n",
    "import matplotlib.pyplot as plt \n",
    "plt.style.use('ggplot')\n",
    "%matplotlib inline  \n",
    "plt.rcParams['figure.figsize'] = (10, 6) \n",
    "\n",
    "# View max columns\n",
    "pd.set_option('display.max_columns', None)"
   ]
  },
  {
   "cell_type": "code",
   "execution_count": null,
   "id": "41ec2210-707e-4738-8ad2-55c9cb608474",
   "metadata": {},
   "outputs": [],
   "source": [
    "# 1) Figure out the location of this script or notebook:\n",
    "from pathlib import Path\n",
    "\n",
    "BASE_DIR = Path.cwd()  # The current working directory is the repository root\n",
    "# 2) Point to your data folders:\n",
    "DATA_DIR = BASE_DIR / \"Data Files\"\n",
    "GEO_DIR = BASE_DIR / \"GeoFiles\"\n",
    "\n",
    "# Create df of the final CSV\n",
    "csv_name = \"one_df_to_rule_them_all.csv\"\n",
    "df = pd.read_csv(DATA_DIR / csv_name)"
   ]
  },
  {
   "cell_type": "markdown",
   "id": "6e5df214-88fd-40f7-9714-b5be7e03ead6",
   "metadata": {},
   "source": [
    "## Information on the DF"
   ]
  },
  {
   "cell_type": "code",
   "execution_count": null,
   "id": "605aaa53-098d-46b6-8a2f-8c0dd1610211",
   "metadata": {},
   "outputs": [],
   "source": [
    "# Viewing the DF\n",
    "print(\"Dimensions of the DF:\",df.shape)\n",
    "\n",
    "print(\"Column names:\",df.columns.to_list())\n",
    "\n",
    "df.head()"
   ]
  },
  {
   "cell_type": "code",
   "execution_count": null,
   "id": "76e209d1-9737-43a9-97db-2a97d2e8ff1a",
   "metadata": {},
   "outputs": [],
   "source": [
    "# use something .info and .describe?\n",
    "# pull number of census tracts"
   ]
  },
  {
   "cell_type": "markdown",
   "id": "6bed4eda-712b-4f6a-a14e-bb83f4fbd636",
   "metadata": {},
   "source": [
    "## Missing values"
   ]
  },
  {
   "cell_type": "code",
   "execution_count": null,
   "id": "b31eaaa6-9524-45e2-8adf-52ca957c332c",
   "metadata": {},
   "outputs": [],
   "source": [
    "# Maybe do a heat map for missing values?"
   ]
  },
  {
   "cell_type": "markdown",
   "id": "fee68330-2f8a-451d-9701-66a96876bd89",
   "metadata": {},
   "source": [
    "## SDOH Examples"
   ]
  },
  {
   "cell_type": "code",
   "execution_count": null,
   "id": "823b0d3f-b91d-4bf1-9a74-a33fc953c1b0",
   "metadata": {},
   "outputs": [],
   "source": [
    "# Example for UofU\n",
    "from geopy.distance import geodesic\n",
    "\n",
    "# Get coordinates: https://gps-coordinates.org/coordinate-converter.php\n",
    "# Latitude and Longitude of UofU\n",
    "school_coords = (40.7633406, -111.8389106)"
   ]
  },
  {
   "cell_type": "code",
   "execution_count": null,
   "id": "11ec1f1e-2b93-4103-b8e5-17885c7ea8f0",
   "metadata": {},
   "outputs": [],
   "source": [
    "from shapely.geometry import Point\n",
    "\n",
    "# This needs to be adjusted\n",
    "geometry = [Point(xy) for xy in zip(air_quality_df['Longitude'], air_quality_df['Latitude'])]\n",
    "aq_geo_df = gpd.GeoDataFrame(air_quality_df, geometry=geometry, crs=\"EPSG:4326\")  # The air quality data is in WGS 84 (EPSG:4326)"
   ]
  }
 ],
 "metadata": {
  "kernelspec": {
   "display_name": "Python 3 (ipykernel)",
   "language": "python",
   "name": "python3"
  },
  "language_info": {
   "codemirror_mode": {
    "name": "ipython",
    "version": 3
   },
   "file_extension": ".py",
   "mimetype": "text/x-python",
   "name": "python",
   "nbconvert_exporter": "python",
   "pygments_lexer": "ipython3",
   "version": "3.13.2"
  }
 },
 "nbformat": 4,
 "nbformat_minor": 5
}
